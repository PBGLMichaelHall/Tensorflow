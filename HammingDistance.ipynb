{
  "nbformat": 4,
  "nbformat_minor": 0,
  "metadata": {
    "colab": {
      "name": "Untitled2.ipynb",
      "provenance": [],
      "collapsed_sections": [],
      "authorship_tag": "ABX9TyPjrq4AQk7tm34hZUfoS9rh",
      "include_colab_link": true
    },
    "kernelspec": {
      "name": "python3",
      "display_name": "Python 3"
    },
    "language_info": {
      "name": "python"
    }
  },
  "cells": [
    {
      "cell_type": "markdown",
      "metadata": {
        "id": "view-in-github",
        "colab_type": "text"
      },
      "source": [
        "<a href=\"https://colab.research.google.com/github/PBGLMichaelHall/Tensorflow/blob/main/HammingDistance.ipynb\" target=\"_parent\"><img src=\"https://colab.research.google.com/assets/colab-badge.svg\" alt=\"Open In Colab\"/></a>"
      ]
    },
    {
      "cell_type": "code",
      "execution_count": null,
      "metadata": {
        "id": "GQ18Kd5F3uKe",
        "colab": {
          "base_uri": "https://localhost:8080/"
        },
        "outputId": "42b93203-aadd-4625-949f-4baf860da924"
      },
      "outputs": [
        {
          "output_type": "stream",
          "name": "stdout",
          "text": [
            "Requirement already satisfied: pysam in /usr/local/lib/python3.7/dist-packages (0.19.0)\n"
          ]
        }
      ],
      "source": [
        "# Please refer to original blog for more information\n",
        "# https://towardsdatascience.com/machine-learning-in-bioinformatics-genome-geography-d1b1dbbfb4c2\n",
        "!pip install pysam"
      ]
    },
    {
      "cell_type": "markdown",
      "source": [
        ""
      ],
      "metadata": {
        "id": "5HINNgzeFi3q"
      }
    },
    {
      "cell_type": "code",
      "execution_count": null,
      "metadata": {
        "id": "NWUf2vJcyxrY"
      },
      "outputs": [],
      "source": [
        "import pandas as pd\n",
        "from pysam import VariantFile\n",
        "import numpy as np\n",
        "import seaborn as sns\n",
        "import matplotlib.pyplot as plt\n",
        "from sklearn.manifold import TSNE\n",
        "from sklearn.ensemble import RandomForestClassifier\n",
        "from sklearn.naive_bayes import MultinomialNB\n",
        "from sklearn.neighbors import KNeighborsClassifier\n",
        "from sklearn.linear_model import LogisticRegression\n",
        "from sklearn.model_selection import cross_val_score\n",
        "\n",
        "plt.style.use('ggplot')\n"
      ]
    },
    {
      "cell_type": "code",
      "source": [
        "samples = pd.read_csv('samples_subset.tsv', sep='\\t')\n",
        "vcf = VariantFile('freebayes~bwa~IRGSP-1.0~all-mutants-minus-S14~QUAL1000-S15-HOMREF.vcf.gz')\n",
        "\n"
      ],
      "metadata": {
        "id": "7lkgHTpm8_DZ"
      },
      "execution_count": null,
      "outputs": []
    },
    {
      "cell_type": "code",
      "source": [
        "samples = samples[samples['Sample name'].isin(list(vcf.header.samples))]\n",
        "samples['Superpopulation code'].value_counts()"
      ],
      "metadata": {
        "colab": {
          "base_uri": "https://localhost:8080/"
        },
        "id": "xOnONhvU9TOd",
        "outputId": "69ca0cdb-73ed-4b48-a23f-bd51b6a22c9f"
      },
      "execution_count": null,
      "outputs": [
        {
          "output_type": "execute_result",
          "data": {
            "text/plain": [
              "BB    8\n",
              "AA    5\n",
              "RR    1\n",
              "Name: Superpopulation code, dtype: int64"
            ]
          },
          "metadata": {},
          "execution_count": 47
        }
      ]
    },
    {
      "cell_type": "code",
      "source": [
        "samples.to_csv('samples_subset.tsv', sep='\\t', index=False)\n",
        "num_samples = len(samples)\n",
        "num_samples"
      ],
      "metadata": {
        "colab": {
          "base_uri": "https://localhost:8080/"
        },
        "id": "9gEW3z5L9jEX",
        "outputId": "cff6af4e-7f6a-4b54-82da-38d0ebe0528c"
      },
      "execution_count": null,
      "outputs": [
        {
          "output_type": "execute_result",
          "data": {
            "text/plain": [
              "14"
            ]
          },
          "metadata": {},
          "execution_count": 48
        }
      ]
    },
    {
      "cell_type": "markdown",
      "source": [
        "Compute Hamming Distance Between Subset Samples"
      ],
      "metadata": {
        "id": "jeV3epEQ-VoF"
      }
    },
    {
      "cell_type": "code",
      "source": [
        "\n",
        "\n",
        "num_mismatches = np.zeros((num_samples, num_samples))\n",
        "num_snps = 0\n",
        "\n"
      ],
      "metadata": {
        "id": "I4t09jN0-Y5r"
      },
      "execution_count": null,
      "outputs": []
    },
    {
      "cell_type": "code",
      "source": [
        "\n",
        "\n",
        "for rec in vcf.fetch():\n",
        "    all_homref = True\n",
        "    tmp_mismatches = np.zeros((num_samples, num_samples))\n",
        "    for i in range(num_samples):\n",
        "        if rec.samples[i]['GT'] != (0,0):\n",
        "            all_homref = False\n",
        "        for j in range(i, num_samples):\n",
        "            if (rec.samples[i]['GT'] != rec.samples[j]['GT']) & (rec.samples[i]['GT'] != rec.samples[j]['GT'][::-1]):\n",
        "                tmp_mismatches[i,j] += 1\n",
        "    if not all_homref:\n",
        "        num_mismatches += tmp_mismatches\n",
        "        num_snps += 1\n",
        "\n"
      ],
      "metadata": {
        "id": "Akr71Hla-bwG"
      },
      "execution_count": null,
      "outputs": []
    },
    {
      "cell_type": "code",
      "source": [
        "\n",
        "\n",
        "ham_dist = num_mismatches / num_snps\n",
        "ham_dist = np.triu(ham_dist) + np.tril(ham_dist.T) # Make matrix balanced\n",
        "np.savetxt('ham_dist.txt', ham_dist, delimiter='\\t', fmt='%1.3f')\n",
        "\n"
      ],
      "metadata": {
        "id": "rBHr6xWm-dEm"
      },
      "execution_count": null,
      "outputs": []
    },
    {
      "cell_type": "markdown",
      "source": [
        "Load pre-computed files"
      ],
      "metadata": {
        "id": "GWCP3qVV-6Df"
      }
    },
    {
      "cell_type": "code",
      "source": [
        "vcf = VariantFile('CHR6.vcf.gz')\n",
        "samples_subset = pd.read_csv('samples_subset.tsv', sep='\\t')\n",
        "ham_dist = np.loadtxt('ham_dist.txt')"
      ],
      "metadata": {
        "id": "xZuukl_o-75H"
      },
      "execution_count": null,
      "outputs": []
    },
    {
      "cell_type": "code",
      "source": [
        "sorterIndex = dict(zip(list(vcf.header.samples), range(len(list(vcf.header.samples)))))\n",
        "samples_subset['Rank'] = samples_subset['Sample name'].map(sorterIndex)\n",
        "samples_subset.sort_values('Rank', inplace=True)\n",
        "samples_subset.drop('Rank', axis=1, inplace=True)"
      ],
      "metadata": {
        "id": "V-CZrQ1-_ENE"
      },
      "execution_count": null,
      "outputs": []
    },
    {
      "cell_type": "code",
      "source": [
        "df = pd.DataFrame(ham_dist)\n",
        "print(df)\n"
      ],
      "metadata": {
        "colab": {
          "base_uri": "https://localhost:8080/"
        },
        "id": "oLQjmKkt_HOV",
        "outputId": "4ace4883-91c6-456c-8c0a-e96943c1e439"
      },
      "execution_count": null,
      "outputs": [
        {
          "output_type": "stream",
          "name": "stdout",
          "text": [
            "       0      1      2      3      4      5      6      7      8      9   \\\n",
            "0   0.000  0.936  0.905  0.924  0.928  0.852  0.883  0.873  0.877  0.876   \n",
            "1   0.936  0.000  0.137  0.117  0.112  0.165  0.156  0.139  0.152  0.160   \n",
            "2   0.905  0.137  0.000  0.146  0.111  0.178  0.177  0.160  0.174  0.189   \n",
            "3   0.924  0.117  0.146  0.000  0.118  0.166  0.170  0.150  0.159  0.172   \n",
            "4   0.928  0.112  0.111  0.118  0.000  0.152  0.141  0.128  0.139  0.154   \n",
            "5   0.852  0.165  0.178  0.166  0.152  0.000  0.122  0.117  0.108  0.125   \n",
            "6   0.883  0.156  0.177  0.170  0.141  0.122  0.000  0.113  0.104  0.093   \n",
            "7   0.873  0.139  0.160  0.150  0.128  0.117  0.113  0.000  0.110  0.118   \n",
            "8   0.877  0.152  0.174  0.159  0.139  0.108  0.104  0.110  0.000  0.108   \n",
            "9   0.876  0.160  0.189  0.172  0.154  0.125  0.093  0.118  0.108  0.000   \n",
            "10  0.883  0.152  0.172  0.165  0.143  0.116  0.086  0.103  0.102  0.094   \n",
            "11  0.896  0.131  0.145  0.154  0.118  0.136  0.120  0.116  0.123  0.132   \n",
            "12  0.869  0.141  0.164  0.160  0.129  0.106  0.103  0.095  0.091  0.109   \n",
            "13  0.928  0.093  0.153  0.122  0.125  0.164  0.163  0.147  0.154  0.170   \n",
            "\n",
            "       10     11     12     13  \n",
            "0   0.883  0.896  0.869  0.928  \n",
            "1   0.152  0.131  0.141  0.093  \n",
            "2   0.172  0.145  0.164  0.153  \n",
            "3   0.165  0.154  0.160  0.122  \n",
            "4   0.143  0.118  0.129  0.125  \n",
            "5   0.116  0.136  0.106  0.164  \n",
            "6   0.086  0.120  0.103  0.163  \n",
            "7   0.103  0.116  0.095  0.147  \n",
            "8   0.102  0.123  0.091  0.154  \n",
            "9   0.094  0.132  0.109  0.170  \n",
            "10  0.000  0.119  0.092  0.160  \n",
            "11  0.119  0.000  0.115  0.137  \n",
            "12  0.092  0.115  0.000  0.150  \n",
            "13  0.160  0.137  0.150  0.000  \n"
          ]
        }
      ]
    },
    {
      "cell_type": "code",
      "source": [
        "\n",
        "\n",
        "df[['sample', 'superpop', 'pop']] = samples_subset[['Sample name', 'Superpopulation code', 'Population code']].reset_index(drop=True)\n",
        "\n"
      ],
      "metadata": {
        "id": "rwdtI3hQ_KKC"
      },
      "execution_count": null,
      "outputs": []
    },
    {
      "cell_type": "code",
      "source": [
        "\n",
        "\n",
        "df = df.rename(columns=dict(zip(range(100), list(samples_subset['Sample name']))))\n",
        "df = df.set_index('sample')\n",
        "\n"
      ],
      "metadata": {
        "id": "QpmtVTNa_Lh_"
      },
      "execution_count": null,
      "outputs": []
    },
    {
      "cell_type": "code",
      "source": [
        "plt.figure(figsize=(10,7))\n",
        "sns.heatmap(df.drop(['superpop', 'pop'], axis=1), cbar_kws={'label': 'Normalized Hamming Distance'})\n",
        "plt.ylabel('')\n",
        "plt.show()\n"
      ],
      "metadata": {
        "colab": {
          "base_uri": "https://localhost:8080/",
          "height": 428
        },
        "id": "jWuFKyTg_PHA",
        "outputId": "087a1d73-558d-40f0-fb6b-cf81ff0cdd72"
      },
      "execution_count": null,
      "outputs": [
        {
          "output_type": "display_data",
          "data": {
            "text/plain": [
              "<Figure size 720x504 with 2 Axes>"
            ],
            "image/png": "[encoded data removed]"
          },
          "metadata": {}
        }
      ]
    },
    {
      "cell_type": "markdown",
      "source": [
        "Dimensionality Reduction with tSNE"
      ],
      "metadata": {
        "id": "DREflNZZ_Za_"
      }
    },
    {
      "cell_type": "code",
      "source": [
        "\n",
        "\n",
        "tsne = TSNE(n_components=2)\n",
        "\n",
        "\n"
      ],
      "metadata": {
        "id": "dHCzEErh_cbL"
      },
      "execution_count": null,
      "outputs": []
    },
    {
      "cell_type": "code",
      "source": [
        "\n",
        "\n",
        "transformed = tsne.fit_transform(df.drop(['superpop', 'pop'], axis=1))\n",
        "print(transformed)\n",
        "\n"
      ],
      "metadata": {
        "colab": {
          "base_uri": "https://localhost:8080/"
        },
        "id": "MGR5n4eS_foE",
        "outputId": "826a131f-6052-4b78-9299-4d5a8ad692ba"
      },
      "execution_count": null,
      "outputs": [
        {
          "output_type": "stream",
          "name": "stdout",
          "text": [
            "[[ 234.58688   -93.41102 ]\n",
            " [-169.52255  -308.96298 ]\n",
            " [ 122.91864   126.914986]\n",
            " [ -55.38388   196.7315  ]\n",
            " [  22.711143  -26.38743 ]\n",
            " [-402.92844   108.38526 ]\n",
            " [ -70.48632   407.20782 ]\n",
            " [-195.04059    71.98218 ]\n",
            " [  64.87467  -245.88277 ]\n",
            " [-265.76523   290.57553 ]\n",
            " [-351.8763   -118.682365]\n",
            " [-139.28339  -111.13996 ]\n",
            " [ 322.69992   132.22894 ]\n",
            " [ 150.96327   336.56186 ]]\n"
          ]
        },
        {
          "output_type": "stream",
          "name": "stderr",
          "text": [
            "/usr/local/lib/python3.7/dist-packages/sklearn/manifold/_t_sne.py:783: FutureWarning: The default initialization in TSNE will change from 'random' to 'pca' in 1.2.\n",
            "  FutureWarning,\n",
            "/usr/local/lib/python3.7/dist-packages/sklearn/manifold/_t_sne.py:793: FutureWarning: The default learning rate in TSNE will change from 200.0 to 'auto' in 1.2.\n",
            "  FutureWarning,\n"
          ]
        }
      ]
    },
    {
      "cell_type": "code",
      "source": [
        "\n",
        "\n",
        "df_tsne = pd.DataFrame(transformed, columns=['C1', 'C2'])\n",
        "df_tsne[['superpop', 'pop']] = df[['superpop', 'pop']].reset_index(drop=True)\n",
        "print(df_tsne)\n",
        "\n"
      ],
      "metadata": {
        "colab": {
          "base_uri": "https://localhost:8080/"
        },
        "id": "GO9w8Awc_hpF",
        "outputId": "de515c56-c01e-4550-d5fe-a32f0440db8f"
      },
      "execution_count": null,
      "outputs": [
        {
          "output_type": "stream",
          "name": "stdout",
          "text": [
            "            C1          C2 superpop pop\n",
            "0   234.586884  -93.411018       RR  RR\n",
            "1  -169.522552 -308.962982       AA  AA\n",
            "2   122.918640  126.914986       AA  AA\n",
            "3   -55.383881  196.731506       AA  AA\n",
            "4    22.711143  -26.387430       AA  AA\n",
            "5  -402.928436  108.385262       BB  BB\n",
            "6   -70.486320  407.207825       BB  BB\n",
            "7  -195.040588   71.982178       BB  BB\n",
            "8    64.874672 -245.882767       BB  BB\n",
            "9  -265.765228  290.575531       BB  BB\n",
            "10 -351.876312 -118.682365       BB  BB\n",
            "11 -139.283386 -111.139961       BB  BB\n",
            "12  322.699921  132.228943       BB  BB\n",
            "13  150.963272  336.561859       AA  AA\n"
          ]
        }
      ]
    },
    {
      "cell_type": "code",
      "source": [
        "\n",
        "\n",
        "plt.figure(figsize=(10,7))\n",
        "sns.scatterplot(x='C1', y='C2', data=df_tsne, hue='superpop')\n",
        "plt.show()\n",
        "\n"
      ],
      "metadata": {
        "colab": {
          "base_uri": "https://localhost:8080/",
          "height": 445
        },
        "id": "SVxx7I9-_l8V",
        "outputId": "4205feb0-4bc9-4ba7-c86b-22d35546a4e4"
      },
      "execution_count": null,
      "outputs": [
        {
          "output_type": "display_data",
          "data": {
            "text/plain": [
              "<Figure size 720x504 with 1 Axes>"
            ],
            "image/png": "[encoded data removed]"
          },
          "metadata": {}
        }
      ]
    },
    {
      "cell_type": "code",
      "source": [
        "\n",
        "\n",
        "\n",
        "X, y = df.drop(['superpop', 'pop'], axis=1), df['superpop']\n",
        "\n",
        "\n",
        "\n",
        "\n"
      ],
      "metadata": {
        "id": "UAmNfOUsAstG"
      },
      "execution_count": null,
      "outputs": []
    },
    {
      "cell_type": "code",
      "source": [
        "\n",
        "\n",
        "rf = RandomForestClassifier()\n",
        "nb = MultinomialNB()\n",
        "knn = KNeighborsClassifier()\n",
        "lgr = LogisticRegression(multi_class='multinomial')\n",
        "\n",
        "\n",
        "\n",
        "\n"
      ],
      "metadata": {
        "id": "Z72pDk5gBOs_"
      },
      "execution_count": null,
      "outputs": []
    },
    {
      "cell_type": "code",
      "source": [
        "\n",
        "\n",
        "classifiers = [rf, nb, knn, lgr]\n",
        "scores = np.array([])\n",
        "k = 5\n",
        "for clf in classifiers:\n",
        "    scores = np.append(scores, cross_val_score(clf, X, y, cv=k)[:])\n",
        "classifier_labels = []\n",
        "for label in ['RF', 'NB', 'KNN', 'LGR']:\n",
        "    classifier_labels += [label] * k\n",
        "\n"
      ],
      "metadata": {
        "colab": {
          "base_uri": "https://localhost:8080/"
        },
        "id": "6r6DBTPkCNot",
        "outputId": "0406f164-710b-4540-cf8c-532b4b043231"
      },
      "execution_count": null,
      "outputs": [
        {
          "output_type": "stream",
          "name": "stderr",
          "text": [
            "/usr/local/lib/python3.7/dist-packages/sklearn/model_selection/_split.py:680: UserWarning: The least populated class in y has only 1 members, which is less than n_splits=5.\n",
            "  UserWarning,\n",
            "/usr/local/lib/python3.7/dist-packages/sklearn/model_selection/_split.py:680: UserWarning: The least populated class in y has only 1 members, which is less than n_splits=5.\n",
            "  UserWarning,\n",
            "/usr/local/lib/python3.7/dist-packages/sklearn/model_selection/_split.py:680: UserWarning: The least populated class in y has only 1 members, which is less than n_splits=5.\n",
            "  UserWarning,\n",
            "/usr/local/lib/python3.7/dist-packages/sklearn/model_selection/_split.py:680: UserWarning: The least populated class in y has only 1 members, which is less than n_splits=5.\n",
            "  UserWarning,\n"
          ]
        }
      ]
    },
    {
      "cell_type": "code",
      "source": [
        "df_scores = pd.DataFrame([scores, classifier_labels], index=['Accuracy', 'Classifier'])\n",
        "df_scores = df_scores.T\n",
        "print(df_scores)"
      ],
      "metadata": {
        "colab": {
          "base_uri": "https://localhost:8080/"
        },
        "id": "wR8fWp8gCQPF",
        "outputId": "e2f456e6-b3e1-4a4e-996c-87b440a48300"
      },
      "execution_count": null,
      "outputs": [
        {
          "output_type": "stream",
          "name": "stdout",
          "text": [
            "    Accuracy Classifier\n",
            "0   0.666667         RF\n",
            "1        1.0         RF\n",
            "2        1.0         RF\n",
            "3        1.0         RF\n",
            "4        1.0         RF\n",
            "5   0.333333         NB\n",
            "6   0.666667         NB\n",
            "7   0.666667         NB\n",
            "8   0.666667         NB\n",
            "9        0.5         NB\n",
            "10  0.666667        KNN\n",
            "11       1.0        KNN\n",
            "12       1.0        KNN\n",
            "13       1.0        KNN\n",
            "14       1.0        KNN\n",
            "15  0.333333        LGR\n",
            "16  0.666667        LGR\n",
            "17  0.666667        LGR\n",
            "18  0.666667        LGR\n",
            "19       0.5        LGR\n"
          ]
        }
      ]
    },
    {
      "cell_type": "code",
      "source": [
        "\n",
        "\n",
        "plt.figure(figsize=(10,7))\n",
        "sns.barplot(x='Classifier', y='Accuracy', data=df_scores)\n",
        "plt.show()\n",
        "\n"
      ],
      "metadata": {
        "colab": {
          "base_uri": "https://localhost:8080/",
          "height": 445
        },
        "id": "_N2F7_b8CR_1",
        "outputId": "553b58d9-7b15-4151-b6bb-b97485b01c31"
      },
      "execution_count": null,
      "outputs": [
        {
          "output_type": "display_data",
          "data": {
            "text/plain": [
              "<Figure size 720x504 with 1 Axes>"
            ],
            "image/png": "[encoded data removed]"
          },
          "metadata": {}
        }
      ]
    }
  ]
}